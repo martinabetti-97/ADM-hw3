{
 "cells": [
  {
   "cell_type": "markdown",
   "metadata": {},
   "source": [
    "### Importing libraries"
   ]
  },
  {
   "cell_type": "code",
   "execution_count": 2,
   "metadata": {},
   "outputs": [],
   "source": [
    "from bs4 import BeautifulSoup\n",
    "import requests\n",
    "import math\n",
    "import os\n",
    "import shutil\n",
    "from selenium import webdriver\n",
    "from selenium.webdriver.common.keys import Keys\n",
    "from webdriver_manager.firefox import GeckoDriverManager\n",
    "import codecs\n",
    "from langdetect import detect\n",
    "import pandas as pd\n",
    "import numpy as np\n",
    "import nltk\n",
    "from nltk.tokenize import RegexpTokenizer\n",
    "from nltk.corpus import stopwords\n",
    "from nltk.stem import PorterStemmer \n",
    "from nltk.tokenize import word_tokenize\n",
    "import json\n",
    "from numpy import linalg as la\n",
    "import time\n",
    "import random\n",
    "import seaborn as sns\n",
    "import string\n",
    "import heapq \n",
    "import matplotlib.pyplot as plt\n",
    "import editdistance\n",
    "import hw3_functions as f"
   ]
  },
  {
   "cell_type": "markdown",
   "metadata": {},
   "source": [
    "### Importing Index and vocabulary\n",
    "In this cell we upload all the intermediate files needed for the query.\n",
    "These cell must be run to execute the query."
   ]
  },
  {
   "cell_type": "code",
   "execution_count": 3,
   "metadata": {},
   "outputs": [],
   "source": [
    "vocabulary,inverted_index, inverted_index_score, d, articles = f.import_files()\n",
    "n = len(articles)"
   ]
  },
  {
   "cell_type": "markdown",
   "metadata": {},
   "source": [
    "## 1. Getting data"
   ]
  },
  {
   "cell_type": "markdown",
   "metadata": {},
   "source": [
    "### 1.1 Downloading htmls"
   ]
  },
  {
   "cell_type": "markdown",
   "metadata": {},
   "source": [
    "#### Generating *url.txt* file\n",
    "With this function we generate a text file containing the suffix to be added to https://www.goodreads.com/ url in order to download the html pages."
   ]
  },
  {
   "cell_type": "code",
   "execution_count": 4,
   "metadata": {},
   "outputs": [],
   "source": [
    "f.urls()"
   ]
  },
  {
   "cell_type": "markdown",
   "metadata": {},
   "source": [
    "#### Iterating and downloading files in *url.txt*\n",
    "For each of the 300 pages we create a folder which name is *page_n*, where *n* is the number of the page.\n",
    "For each line in the url file we download the corresponding html page and use *BeatifulSoup* to parse it. Then we write a new file which has as a name an integer (zero based) and the *.html* suffix. Finally we move each of this files to their corresponding folder (page number)."
   ]
  },
  {
   "cell_type": "code",
   "execution_count": 5,
   "metadata": {},
   "outputs": [],
   "source": [
    "f.download()"
   ]
  },
  {
   "cell_type": "markdown",
   "metadata": {},
   "source": [
    "### 1.2 Parsing HTML files"
   ]
  },
  {
   "cell_type": "markdown",
   "metadata": {},
   "source": [
    "#### Parsing info from html page\n",
    "In this section we extract the information that we want from the htmls and store them into a dataframe. Each dataframe is exported as *article_n.tsv* where *n* is an integer, name of the hmtl file it was created from."
   ]
  },
  {
   "cell_type": "code",
   "execution_count": 6,
   "metadata": {},
   "outputs": [],
   "source": [
    "f.generate_tsv(range(1,300+1))"
   ]
  },
  {
   "cell_type": "markdown",
   "metadata": {},
   "source": [
    "#### Fixing broken urls\n",
    "Some pages returned an error on bookTitle, so we assumed the html was corrupted. We iterate the lines in the *broken_url.txt* previously created and we download those pages again. After this process we only have one missing page, meaning that all the other broken html pages have been reapaired."
   ]
  },
  {
   "cell_type": "code",
   "execution_count": 7,
   "metadata": {},
   "outputs": [],
   "source": [
    "f.fix_broken_links()"
   ]
  },
  {
   "cell_type": "markdown",
   "metadata": {},
   "source": [
    "## 2. Search Engine"
   ]
  },
  {
   "cell_type": "markdown",
   "metadata": {},
   "source": [
    "### 2.1.1 Build vocabulary and inverted index"
   ]
  },
  {
   "cell_type": "markdown",
   "metadata": {},
   "source": [
    "#### Vocabulary\n",
    "Our vocabulary is 0 based and present the \"clean\" version of all terms that are ecountered in the plot of each file. This object is exported with *json* and can be imported directly as a dictionary."
   ]
  },
  {
   "cell_type": "code",
   "execution_count": 8,
   "metadata": {},
   "outputs": [],
   "source": [
    "vocabulary_dict,article_dict, terms_ids = f.build_vocabulary(articles)"
   ]
  },
  {
   "cell_type": "markdown",
   "metadata": {},
   "source": [
    "#### Inverted index\n",
    "Our inverted index is zero based and to each term index we associate a list of elements. This object is exported with *json* and can be imported directly as a dictionary."
   ]
  },
  {
   "cell_type": "code",
   "execution_count": 9,
   "metadata": {},
   "outputs": [],
   "source": [
    "inverted_index = f.build_inverted_index(vocabulary_dict,article_dict)"
   ]
  },
  {
   "cell_type": "markdown",
   "metadata": {},
   "source": [
    "### 2.1.2  Execute the query\n",
    "We find the list of all the articles plots that have all the elements in the query through the *prefiltering* function. Once we have the list, we add each article as a new line to the output dataframe containing the *bookTitle*, *Plot* and *Url* columns. \\\n",
    "Below you can see one example to understand the mechanism of the query function."
   ]
  },
  {
   "cell_type": "code",
   "execution_count": 10,
   "metadata": {},
   "outputs": [],
   "source": [
    "start = time.time()\n",
    "test = f.query('survival games',vocabulary,inverted_index)\n",
    "end = time.time()"
   ]
  },
  {
   "cell_type": "code",
   "execution_count": 11,
   "metadata": {},
   "outputs": [
    {
     "name": "stdout",
     "output_type": "stream",
     "text": [
      "Time elapsed for query: 0.4762880802154541 seconds\n"
     ]
    },
    {
     "data": {
      "text/html": [
       "<div>\n",
       "<style scoped>\n",
       "    .dataframe tbody tr th:only-of-type {\n",
       "        vertical-align: middle;\n",
       "    }\n",
       "\n",
       "    .dataframe tbody tr th {\n",
       "        vertical-align: top;\n",
       "    }\n",
       "\n",
       "    .dataframe thead th {\n",
       "        text-align: right;\n",
       "    }\n",
       "</style>\n",
       "<table border=\"1\" class=\"dataframe\">\n",
       "  <thead>\n",
       "    <tr style=\"text-align: right;\">\n",
       "      <th></th>\n",
       "      <th>bookTitle</th>\n",
       "      <th>Plot</th>\n",
       "      <th>Url</th>\n",
       "    </tr>\n",
       "  </thead>\n",
       "  <tbody>\n",
       "    <tr>\n",
       "      <th>0</th>\n",
       "      <td>Halo: First Strike</td>\n",
       "      <td>The Human-Covenant war rages on as the alien ...</td>\n",
       "      <td>/book/show/615921.Halo\\n</td>\n",
       "    </tr>\n",
       "    <tr>\n",
       "      <th>1</th>\n",
       "      <td>Hunter's Run</td>\n",
       "      <td>Like so many others, Ramon Espejo ran from th...</td>\n",
       "      <td>/book/show/1282266.Hunter_s_Run\\n</td>\n",
       "    </tr>\n",
       "    <tr>\n",
       "      <th>2</th>\n",
       "      <td>Indian Hill</td>\n",
       "      <td>A Michael Talbot Adventure: This first story ...</td>\n",
       "      <td>/book/show/13305176-indian-hill\\n</td>\n",
       "    </tr>\n",
       "    <tr>\n",
       "      <th>3</th>\n",
       "      <td>Bound by Honor</td>\n",
       "      <td>A modern mafia fairytale. Born into one of th...</td>\n",
       "      <td>/book/show/51525075-bound-by-honor\\n</td>\n",
       "    </tr>\n",
       "    <tr>\n",
       "      <th>4</th>\n",
       "      <td>Fairest</td>\n",
       "      <td>Mirror, Mirror, on the wall, Who is the Faire...</td>\n",
       "      <td>/book/show/14745338-fairest\\n</td>\n",
       "    </tr>\n",
       "    <tr>\n",
       "      <th>...</th>\n",
       "      <td>...</td>\n",
       "      <td>...</td>\n",
       "      <td>...</td>\n",
       "    </tr>\n",
       "    <tr>\n",
       "      <th>117</th>\n",
       "      <td>Shadow Falling</td>\n",
       "      <td>I was born in a world ruled by gods. This wor...</td>\n",
       "      <td>/book/show/701564.Shadow_Falling\\n</td>\n",
       "    </tr>\n",
       "    <tr>\n",
       "      <th>118</th>\n",
       "      <td>The End of The Computer</td>\n",
       "      <td>Travel to the edge of The End of the world wi...</td>\n",
       "      <td>/book/show/12488314-the-end-of-the-computer\\n</td>\n",
       "    </tr>\n",
       "    <tr>\n",
       "      <th>119</th>\n",
       "      <td>Mockingjay</td>\n",
       "      <td>The final book in the ground-breaking HUNGER ...</td>\n",
       "      <td>/book/show/7260188-mockingjay\\n</td>\n",
       "    </tr>\n",
       "    <tr>\n",
       "      <th>120</th>\n",
       "      <td>Valor</td>\n",
       "      <td>The Banished Lands is torn by war as High Kin...</td>\n",
       "      <td>/book/show/40651803-valor\\n</td>\n",
       "    </tr>\n",
       "    <tr>\n",
       "      <th>121</th>\n",
       "      <td>Playing Dirty</td>\n",
       "      <td>\"\"Kiki captures the heat of the streets.\"\" --...</td>\n",
       "      <td>/book/show/5278191-playing-dirty\\n</td>\n",
       "    </tr>\n",
       "  </tbody>\n",
       "</table>\n",
       "<p>122 rows × 3 columns</p>\n",
       "</div>"
      ],
      "text/plain": [
       "                   bookTitle  \\\n",
       "0         Halo: First Strike   \n",
       "1               Hunter's Run   \n",
       "2                Indian Hill   \n",
       "3             Bound by Honor   \n",
       "4                    Fairest   \n",
       "..                       ...   \n",
       "117           Shadow Falling   \n",
       "118  The End of The Computer   \n",
       "119               Mockingjay   \n",
       "120                    Valor   \n",
       "121            Playing Dirty   \n",
       "\n",
       "                                                  Plot  \\\n",
       "0     The Human-Covenant war rages on as the alien ...   \n",
       "1     Like so many others, Ramon Espejo ran from th...   \n",
       "2     A Michael Talbot Adventure: This first story ...   \n",
       "3     A modern mafia fairytale. Born into one of th...   \n",
       "4     Mirror, Mirror, on the wall, Who is the Faire...   \n",
       "..                                                 ...   \n",
       "117   I was born in a world ruled by gods. This wor...   \n",
       "118   Travel to the edge of The End of the world wi...   \n",
       "119   The final book in the ground-breaking HUNGER ...   \n",
       "120   The Banished Lands is torn by war as High Kin...   \n",
       "121   \"\"Kiki captures the heat of the streets.\"\" --...   \n",
       "\n",
       "                                               Url  \n",
       "0                         /book/show/615921.Halo\\n  \n",
       "1                /book/show/1282266.Hunter_s_Run\\n  \n",
       "2                /book/show/13305176-indian-hill\\n  \n",
       "3             /book/show/51525075-bound-by-honor\\n  \n",
       "4                    /book/show/14745338-fairest\\n  \n",
       "..                                             ...  \n",
       "117             /book/show/701564.Shadow_Falling\\n  \n",
       "118  /book/show/12488314-the-end-of-the-computer\\n  \n",
       "119                /book/show/7260188-mockingjay\\n  \n",
       "120                    /book/show/40651803-valor\\n  \n",
       "121             /book/show/5278191-playing-dirty\\n  \n",
       "\n",
       "[122 rows x 3 columns]"
      ]
     },
     "execution_count": 11,
     "metadata": {},
     "output_type": "execute_result"
    }
   ],
   "source": [
    "print(f'Time elapsed for query: {end-start} seconds')\n",
    "test"
   ]
  },
  {
   "cell_type": "markdown",
   "metadata": {},
   "source": [
    "### 2.2.1 Inverted index with score"
   ]
  },
  {
   "cell_type": "markdown",
   "metadata": {},
   "source": [
    "We create an occurrence matrix in which lines are articles and columns are terms. In here we also produce a new file that store the names of all articles that have a plot, ignoring those which do not have one."
   ]
  },
  {
   "cell_type": "code",
   "execution_count": 12,
   "metadata": {},
   "outputs": [],
   "source": [
    "occ_matrix, articles = f.occurrence_matrix(articles)"
   ]
  },
  {
   "cell_type": "markdown",
   "metadata": {},
   "source": [
    "We use this matrix to build a vector *N* which has the same length as the number of unique terms in vocabulary and that specify the global occurrence of each unique term. "
   ]
  },
  {
   "cell_type": "code",
   "execution_count": 13,
   "metadata": {},
   "outputs": [],
   "source": [
    "my_N_vector = f.N_vector(occ_matrix)"
   ]
  },
  {
   "cell_type": "markdown",
   "metadata": {},
   "source": [
    "We transform the occurrence matrix to a score matrix, keeping the same overall structure."
   ]
  },
  {
   "cell_type": "code",
   "execution_count": 14,
   "metadata": {},
   "outputs": [],
   "source": [
    "OMWS = f.matrix_with_score(occ_matrix, my_N_vector)"
   ]
  },
  {
   "cell_type": "markdown",
   "metadata": {},
   "source": [
    "We also create and store a *d* vector which has the same length as the total number of articles (with plot and valid book title) and specify the value of $\\frac{1}{||d||}$ for each article."
   ]
  },
  {
   "cell_type": "code",
   "execution_count": 15,
   "metadata": {},
   "outputs": [],
   "source": [
    "my_d_vector = f.d_vector(OMWS)"
   ]
  },
  {
   "cell_type": "markdown",
   "metadata": {},
   "source": [
    "Finally from this matrix we produce the inverted index with score by iterating each row and column and we store the inverted index in a json file.  \\\n",
    " \\\n",
    "The structure of this index is a dictionary of dictionaries, so the outer level is: \\\n",
    "    {**term_1** : {articles:scores_term_1}, **term_2** : {articles:scores_term_2}, ... , **term_n** : {articles:scores_term_n}} \\\n",
    " \\\n",
    "While the inner level for term_1 is: \\\n",
    "{**article_x** : score_x_term_1, **article_y** : score_y_term_1, ... , **article_z** : score_z_term_1}\n"
   ]
  },
  {
   "cell_type": "code",
   "execution_count": 16,
   "metadata": {},
   "outputs": [],
   "source": [
    "build_inverted_inverted_index_2 = f.inverted_index_score(OMWS)"
   ]
  },
  {
   "cell_type": "markdown",
   "metadata": {},
   "source": [
    "### 2.2.2 Execute the query with cosine similarity"
   ]
  },
  {
   "cell_type": "markdown",
   "metadata": {},
   "source": [
    "Here we define the cosine similarity of each article for a given query. The top K results (k articles with the highest similarity score) will be returned in decreasing order. \\\n",
    "Below we show an example of the top_k_query function, with k=20."
   ]
  },
  {
   "cell_type": "code",
   "execution_count": 17,
   "metadata": {},
   "outputs": [],
   "source": [
    "start = time.time()\n",
    "test = f.top_k_query('hunger games',20)\n",
    "end = time.time()"
   ]
  },
  {
   "cell_type": "code",
   "execution_count": 18,
   "metadata": {},
   "outputs": [
    {
     "name": "stdout",
     "output_type": "stream",
     "text": [
      "Time elapsed for query: 0.3617281913757324 seconds\n"
     ]
    },
    {
     "data": {
      "text/html": [
       "<div>\n",
       "<style scoped>\n",
       "    .dataframe tbody tr th:only-of-type {\n",
       "        vertical-align: middle;\n",
       "    }\n",
       "\n",
       "    .dataframe tbody tr th {\n",
       "        vertical-align: top;\n",
       "    }\n",
       "\n",
       "    .dataframe thead th {\n",
       "        text-align: right;\n",
       "    }\n",
       "</style>\n",
       "<table border=\"1\" class=\"dataframe\">\n",
       "  <thead>\n",
       "    <tr style=\"text-align: right;\">\n",
       "      <th></th>\n",
       "      <th>bookTitle</th>\n",
       "      <th>Plot</th>\n",
       "      <th>Url</th>\n",
       "      <th>Similarity</th>\n",
       "    </tr>\n",
       "  </thead>\n",
       "  <tbody>\n",
       "    <tr>\n",
       "      <th>32</th>\n",
       "      <td>Throne of Glass Collection</td>\n",
       "      <td>Perfect for the Fans of Hunger Games, Game Of...</td>\n",
       "      <td>/book/show/26309016-throne-of-glass-collection\\n</td>\n",
       "      <td>0.014158</td>\n",
       "    </tr>\n",
       "    <tr>\n",
       "      <th>0</th>\n",
       "      <td>The Hunger Games Trilogy Boxset</td>\n",
       "      <td>The extraordinary, ground breaking New York T...</td>\n",
       "      <td>/book/show/7938275-the-hunger-games-trilogy-bo...</td>\n",
       "      <td>0.013622</td>\n",
       "    </tr>\n",
       "    <tr>\n",
       "      <th>33</th>\n",
       "      <td>SAMPLER ONLY: Catching Fire (The Hunger Games,...</td>\n",
       "      <td>Against all odds, Katniss Everdeen has won th...</td>\n",
       "      <td>/book/show/20349441-sampler-only\\n</td>\n",
       "      <td>0.011133</td>\n",
       "    </tr>\n",
       "    <tr>\n",
       "      <th>28</th>\n",
       "      <td>Eeny Meeny</td>\n",
       "      <td>The \"dark, twisted, thought-provoking\" (#1 Ne...</td>\n",
       "      <td>/book/show/23398806-eeny-meeny\\n</td>\n",
       "      <td>0.009505</td>\n",
       "    </tr>\n",
       "    <tr>\n",
       "      <th>41</th>\n",
       "      <td>Mockingjay</td>\n",
       "      <td>The final book in the ground-breaking HUNGER ...</td>\n",
       "      <td>/book/show/7260188-mockingjay\\n</td>\n",
       "      <td>0.009060</td>\n",
       "    </tr>\n",
       "    <tr>\n",
       "      <th>35</th>\n",
       "      <td>The Hunger Games Tribute Guide</td>\n",
       "      <td>The New York Times bestselling Hunger Games i...</td>\n",
       "      <td>/book/show/13027304-the-hunger-games-tribute-g...</td>\n",
       "      <td>0.008510</td>\n",
       "    </tr>\n",
       "    <tr>\n",
       "      <th>34</th>\n",
       "      <td>The Dust Lands Trilogy: Blood Red Road; Rebel ...</td>\n",
       "      <td>All three books in the highly praised Dust La...</td>\n",
       "      <td>/book/show/24885710-the-dust-lands-trilogy\\n</td>\n",
       "      <td>0.006066</td>\n",
       "    </tr>\n",
       "    <tr>\n",
       "      <th>24</th>\n",
       "      <td>Cheating on My Mistress</td>\n",
       "      <td>Carmelo Miller is a retired NBA player who ha...</td>\n",
       "      <td>/book/show/6296341-cheating-on-my-mistress\\n</td>\n",
       "      <td>0.004788</td>\n",
       "    </tr>\n",
       "    <tr>\n",
       "      <th>3</th>\n",
       "      <td>The Hunger Games</td>\n",
       "      <td>Could you survive on your own in the wild, wi...</td>\n",
       "      <td>/book/show/2767052-the-hunger-games\\n</td>\n",
       "      <td>0.004586</td>\n",
       "    </tr>\n",
       "    <tr>\n",
       "      <th>22</th>\n",
       "      <td>Island of Dragons</td>\n",
       "      <td>Twins Alex and Aaron Stowe are put to the ult...</td>\n",
       "      <td>/book/show/23497890-island-of-dragons\\n</td>\n",
       "      <td>0.004280</td>\n",
       "    </tr>\n",
       "    <tr>\n",
       "      <th>36</th>\n",
       "      <td>The Hunger Games: Official Illustrated Movie C...</td>\n",
       "      <td>Go behind the scenes of the making of The Hun...</td>\n",
       "      <td>/book/show/11742691-the-hunger-games\\n</td>\n",
       "      <td>0.004100</td>\n",
       "    </tr>\n",
       "    <tr>\n",
       "      <th>15</th>\n",
       "      <td>Dead City</td>\n",
       "      <td>A tween takes on undead New Yorkers in this p...</td>\n",
       "      <td>/book/show/13260545-dead-city\\n</td>\n",
       "      <td>0.003929</td>\n",
       "    </tr>\n",
       "    <tr>\n",
       "      <th>14</th>\n",
       "      <td>Into the Shadows</td>\n",
       "      <td>He’s working undercover for the good guys. Th...</td>\n",
       "      <td>/book/show/22674054-into-the-shadows\\n</td>\n",
       "      <td>0.003779</td>\n",
       "    </tr>\n",
       "    <tr>\n",
       "      <th>27</th>\n",
       "      <td>The Ballad of Songbirds and Snakes</td>\n",
       "      <td>It is the morning of the reaping that will ki...</td>\n",
       "      <td>/book/show/51901147-the-ballad-of-songbirds-an...</td>\n",
       "      <td>0.003755</td>\n",
       "    </tr>\n",
       "    <tr>\n",
       "      <th>37</th>\n",
       "      <td>Catching Fire</td>\n",
       "      <td>SPARKS ARE IGNITING. FLAMES ARE SPREADING. AN...</td>\n",
       "      <td>/book/show/6148028-catching-fire\\n</td>\n",
       "      <td>0.003682</td>\n",
       "    </tr>\n",
       "    <tr>\n",
       "      <th>19</th>\n",
       "      <td>Fornicationn</td>\n",
       "      <td>My name is Portia and I am a hoe from a long ...</td>\n",
       "      <td>/book/show/13317882-fornicationn\\n</td>\n",
       "      <td>0.003667</td>\n",
       "    </tr>\n",
       "    <tr>\n",
       "      <th>21</th>\n",
       "      <td>Gregor and the Prophecy of Bane</td>\n",
       "      <td>The action and adventure continue for Gregor ...</td>\n",
       "      <td>/book/show/385742.Gregor_and_the_Prophecy_of_B...</td>\n",
       "      <td>0.003344</td>\n",
       "    </tr>\n",
       "    <tr>\n",
       "      <th>6</th>\n",
       "      <td>Inside the Maze Runner: The Guide to the Glade</td>\n",
       "      <td>The first book in James Dashner’s New York Ti...</td>\n",
       "      <td>/book/show/21965351-inside-the-maze-runner\\n</td>\n",
       "      <td>0.003298</td>\n",
       "    </tr>\n",
       "    <tr>\n",
       "      <th>44</th>\n",
       "      <td>Ruins</td>\n",
       "      <td>Kira, Samm, and Marcus fight to prevent a fin...</td>\n",
       "      <td>/book/show/17607716-ruins\\n</td>\n",
       "      <td>0.003249</td>\n",
       "    </tr>\n",
       "    <tr>\n",
       "      <th>8</th>\n",
       "      <td>The Unknown</td>\n",
       "      <td>For fans of Divergent, The Hunger Games, and ...</td>\n",
       "      <td>/book/show/50979867-the-unknown\\n</td>\n",
       "      <td>0.003089</td>\n",
       "    </tr>\n",
       "  </tbody>\n",
       "</table>\n",
       "</div>"
      ],
      "text/plain": [
       "                                            bookTitle  \\\n",
       "32                         Throne of Glass Collection   \n",
       "0                     The Hunger Games Trilogy Boxset   \n",
       "33  SAMPLER ONLY: Catching Fire (The Hunger Games,...   \n",
       "28                                         Eeny Meeny   \n",
       "41                                         Mockingjay   \n",
       "35                     The Hunger Games Tribute Guide   \n",
       "34  The Dust Lands Trilogy: Blood Red Road; Rebel ...   \n",
       "24                            Cheating on My Mistress   \n",
       "3                                    The Hunger Games   \n",
       "22                                  Island of Dragons   \n",
       "36  The Hunger Games: Official Illustrated Movie C...   \n",
       "15                                          Dead City   \n",
       "14                                   Into the Shadows   \n",
       "27                 The Ballad of Songbirds and Snakes   \n",
       "37                                      Catching Fire   \n",
       "19                                       Fornicationn   \n",
       "21                    Gregor and the Prophecy of Bane   \n",
       "6      Inside the Maze Runner: The Guide to the Glade   \n",
       "44                                              Ruins   \n",
       "8                                         The Unknown   \n",
       "\n",
       "                                                 Plot  \\\n",
       "32   Perfect for the Fans of Hunger Games, Game Of...   \n",
       "0    The extraordinary, ground breaking New York T...   \n",
       "33   Against all odds, Katniss Everdeen has won th...   \n",
       "28   The \"dark, twisted, thought-provoking\" (#1 Ne...   \n",
       "41   The final book in the ground-breaking HUNGER ...   \n",
       "35   The New York Times bestselling Hunger Games i...   \n",
       "34   All three books in the highly praised Dust La...   \n",
       "24   Carmelo Miller is a retired NBA player who ha...   \n",
       "3    Could you survive on your own in the wild, wi...   \n",
       "22   Twins Alex and Aaron Stowe are put to the ult...   \n",
       "36   Go behind the scenes of the making of The Hun...   \n",
       "15   A tween takes on undead New Yorkers in this p...   \n",
       "14   He’s working undercover for the good guys. Th...   \n",
       "27   It is the morning of the reaping that will ki...   \n",
       "37   SPARKS ARE IGNITING. FLAMES ARE SPREADING. AN...   \n",
       "19   My name is Portia and I am a hoe from a long ...   \n",
       "21   The action and adventure continue for Gregor ...   \n",
       "6    The first book in James Dashner’s New York Ti...   \n",
       "44   Kira, Samm, and Marcus fight to prevent a fin...   \n",
       "8    For fans of Divergent, The Hunger Games, and ...   \n",
       "\n",
       "                                                  Url  Similarity  \n",
       "32   /book/show/26309016-throne-of-glass-collection\\n    0.014158  \n",
       "0   /book/show/7938275-the-hunger-games-trilogy-bo...    0.013622  \n",
       "33                 /book/show/20349441-sampler-only\\n    0.011133  \n",
       "28                   /book/show/23398806-eeny-meeny\\n    0.009505  \n",
       "41                    /book/show/7260188-mockingjay\\n    0.009060  \n",
       "35  /book/show/13027304-the-hunger-games-tribute-g...    0.008510  \n",
       "34       /book/show/24885710-the-dust-lands-trilogy\\n    0.006066  \n",
       "24       /book/show/6296341-cheating-on-my-mistress\\n    0.004788  \n",
       "3               /book/show/2767052-the-hunger-games\\n    0.004586  \n",
       "22            /book/show/23497890-island-of-dragons\\n    0.004280  \n",
       "36             /book/show/11742691-the-hunger-games\\n    0.004100  \n",
       "15                    /book/show/13260545-dead-city\\n    0.003929  \n",
       "14             /book/show/22674054-into-the-shadows\\n    0.003779  \n",
       "27  /book/show/51901147-the-ballad-of-songbirds-an...    0.003755  \n",
       "37                 /book/show/6148028-catching-fire\\n    0.003682  \n",
       "19                 /book/show/13317882-fornicationn\\n    0.003667  \n",
       "21  /book/show/385742.Gregor_and_the_Prophecy_of_B...    0.003344  \n",
       "6        /book/show/21965351-inside-the-maze-runner\\n    0.003298  \n",
       "44                        /book/show/17607716-ruins\\n    0.003249  \n",
       "8                   /book/show/50979867-the-unknown\\n    0.003089  "
      ]
     },
     "execution_count": 18,
     "metadata": {},
     "output_type": "execute_result"
    }
   ],
   "source": [
    "print(f'Time elapsed for query: {end-start} seconds')\n",
    "test"
   ]
  },
  {
   "cell_type": "markdown",
   "metadata": {},
   "source": [
    "### 3 New score\n",
    "In order to define a new score we iterate all articles that have all query terms in their plots (as in 2.1 engine), but now we also ask for multiple inputs to define a new score by taking into account some of the other fields. We will use a different metric according to the type of information:\n",
    "\n",
    "- **Cosine similarity**: for the *plot* (cosine function defined above), which returns a score between 0 and 1. To calculate this similarity we use the \"clean\" version of the query input (we apply cleaning function defined above).\n",
    "- **Edit distance**: for the *book title* and the *author*. To calculate this score we use the lower case version of the input, with no additional \"cleaning\". In order to get a score between 0 and 1 for each field we normalize it.\n",
    "- **Match ratio**: for *year of pubblication*, *number of ratings*, *rating value* and *number of pages*. To calculate this score we use the inputs as thresholds. So we get a binary result for each of these four fields (1 = match, 0 = no match), then to get a single score from 0 to 1 we divide the number of matches by the number of fields considered. \n",
    "\n",
    "The final similarity score will be a normalized sum of these four scores: plot score, title score, book score and match score. In this way we give more weight to the first three fields rather than each of the fields that we consider to be less relevant: year, number of pages, ratings and number of ratings."
   ]
  },
  {
   "cell_type": "markdown",
   "metadata": {},
   "source": [
    "Below we provide a user friendly window which allows to specify a different input for each field. If one field is not known the user can simply press \"ENTER\". Here we provide an example: "
   ]
  },
  {
   "cell_type": "code",
   "execution_count": 19,
   "metadata": {},
   "outputs": [
    {
     "name": "stdout",
     "output_type": "stream",
     "text": [
      "Type a plot-based query: survival games\n",
      "Type author name if known, otherwise press ENTER: suzanne\n",
      "Type book title if known, otherwise press ENTER: hunger games\n",
      "Type maximum number of years since publication, otherwise press ENTER: 15\n",
      "Type minimum number of ratings, otherwise press ENTER: 200\n",
      "Type minimum rate required (1-5), otherwise press ENTER: 3\n",
      "Minimum number of pages required, otherwise press ENTER: 200\n",
      "Number of results in output: 20\n"
     ]
    }
   ],
   "source": [
    "plot_query = input('Type a plot-based query: ') \n",
    "author_query = input('Type author name if known, otherwise press ENTER: ') \n",
    "title_query = input('Type book title if known, otherwise press ENTER: ') \n",
    "year_query = input('Type maximum number of years since publication, otherwise press ENTER: ') \n",
    "min_nratings = input('Type minimum number of ratings, otherwise press ENTER: ') \n",
    "rate_query = input('Type minimum rate required (1-5), otherwise press ENTER: ') \n",
    "min_npages = input('Minimum number of pages required, otherwise press ENTER: ') \n",
    "k = input('Number of results in output: ')"
   ]
  },
  {
   "cell_type": "code",
   "execution_count": 20,
   "metadata": {},
   "outputs": [],
   "source": [
    "start = time.time()\n",
    "test = f.query_newscore(plot_query,title_query,author_query,year_query,min_nratings,rate_query,min_npages,k)\n",
    "end = time.time()"
   ]
  },
  {
   "cell_type": "code",
   "execution_count": 21,
   "metadata": {
    "scrolled": true
   },
   "outputs": [
    {
     "name": "stdout",
     "output_type": "stream",
     "text": [
      "Time elapsed for query: 1.0122475624084473 seconds\n"
     ]
    },
    {
     "data": {
      "text/html": [
       "<div>\n",
       "<style scoped>\n",
       "    .dataframe tbody tr th:only-of-type {\n",
       "        vertical-align: middle;\n",
       "    }\n",
       "\n",
       "    .dataframe tbody tr th {\n",
       "        vertical-align: top;\n",
       "    }\n",
       "\n",
       "    .dataframe thead th {\n",
       "        text-align: right;\n",
       "    }\n",
       "</style>\n",
       "<table border=\"1\" class=\"dataframe\">\n",
       "  <thead>\n",
       "    <tr style=\"text-align: right;\">\n",
       "      <th></th>\n",
       "      <th>bookTitle</th>\n",
       "      <th>Plot</th>\n",
       "      <th>Url</th>\n",
       "      <th>Similarity</th>\n",
       "    </tr>\n",
       "  </thead>\n",
       "  <tbody>\n",
       "    <tr>\n",
       "      <th>93</th>\n",
       "      <td>The Hunger Games</td>\n",
       "      <td>Could you survive on your own in the wild, wi...</td>\n",
       "      <td>/book/show/2767052-the-hunger-games\\n</td>\n",
       "      <td>0.308491</td>\n",
       "    </tr>\n",
       "    <tr>\n",
       "      <th>87</th>\n",
       "      <td>Wicked Games</td>\n",
       "      <td>Abby Lewis never pictured herself on the surv...</td>\n",
       "      <td>/book/show/10719342-wicked-games\\n</td>\n",
       "      <td>0.206833</td>\n",
       "    </tr>\n",
       "    <tr>\n",
       "      <th>104</th>\n",
       "      <td>The Ballad of Songbirds and Snakes</td>\n",
       "      <td>It is the morning of the reaping that will ki...</td>\n",
       "      <td>/book/show/51901147-the-ballad-of-songbirds-an...</td>\n",
       "      <td>0.177233</td>\n",
       "    </tr>\n",
       "    <tr>\n",
       "      <th>46</th>\n",
       "      <td>The Gender Game</td>\n",
       "      <td>For fans of The Hunger Games and Divergent co...</td>\n",
       "      <td>/book/show/31131467-the-gender-game\\n</td>\n",
       "      <td>0.173720</td>\n",
       "    </tr>\n",
       "    <tr>\n",
       "      <th>98</th>\n",
       "      <td>The Quillan Games</td>\n",
       "      <td>LET THE GAMES BEGIN.... Quillan is a territor...</td>\n",
       "      <td>/book/show/215540.The_Quillan_Games\\n</td>\n",
       "      <td>0.162878</td>\n",
       "    </tr>\n",
       "    <tr>\n",
       "      <th>49</th>\n",
       "      <td>Catching Fire</td>\n",
       "      <td>SPARKS ARE IGNITING. FLAMES ARE SPREADING. AN...</td>\n",
       "      <td>/book/show/6148028-catching-fire\\n</td>\n",
       "      <td>0.157482</td>\n",
       "    </tr>\n",
       "    <tr>\n",
       "      <th>41</th>\n",
       "      <td>The War of Mists</td>\n",
       "      <td>She chose to die in her sister's place and ye...</td>\n",
       "      <td>/book/show/6655491-the-war-of-mists\\n</td>\n",
       "      <td>0.156313</td>\n",
       "    </tr>\n",
       "    <tr>\n",
       "      <th>44</th>\n",
       "      <td>Dom Wars: Round Six</td>\n",
       "      <td>When Gladiator Inc, an adult toy company expa...</td>\n",
       "      <td>/book/show/22912730-dom-wars\\n</td>\n",
       "      <td>0.154022</td>\n",
       "    </tr>\n",
       "    <tr>\n",
       "      <th>25</th>\n",
       "      <td>The Slave Players</td>\n",
       "      <td>It’s modern day in the Deep South. Racial unr...</td>\n",
       "      <td>/book/show/48925302-the-slave-players\\n</td>\n",
       "      <td>0.137528</td>\n",
       "    </tr>\n",
       "    <tr>\n",
       "      <th>47</th>\n",
       "      <td>Start the Game</td>\n",
       "      <td>Twelve players set off through the online wor...</td>\n",
       "      <td>/book/show/25963370-start-the-game\\n</td>\n",
       "      <td>0.136084</td>\n",
       "    </tr>\n",
       "    <tr>\n",
       "      <th>55</th>\n",
       "      <td>Cage of Darkness</td>\n",
       "      <td>While traveling to Fren, Allyssa and Odar are...</td>\n",
       "      <td>/book/show/33893388-cage-of-darkness\\n</td>\n",
       "      <td>0.135188</td>\n",
       "    </tr>\n",
       "    <tr>\n",
       "      <th>109</th>\n",
       "      <td>The Triple Goddess</td>\n",
       "      <td>Keira soon finds herself becoming a pawn in a...</td>\n",
       "      <td>/book/show/16110552-the-triple-goddess\\n</td>\n",
       "      <td>0.133794</td>\n",
       "    </tr>\n",
       "    <tr>\n",
       "      <th>37</th>\n",
       "      <td>The Maze Runner Trilogy (Maze Runner, #1-3)</td>\n",
       "      <td>The perfect gift for fans of The Hunger Games...</td>\n",
       "      <td>/book/show/17292676-the-maze-runner-trilogy\\n</td>\n",
       "      <td>0.131005</td>\n",
       "    </tr>\n",
       "    <tr>\n",
       "      <th>56</th>\n",
       "      <td>Oh! My Useless Goddess!</td>\n",
       "      <td>Game loving shut-in Kazuma Sato's life as a y...</td>\n",
       "      <td>/book/show/31423227-oh-my-useless-goddess\\n</td>\n",
       "      <td>0.125985</td>\n",
       "    </tr>\n",
       "    <tr>\n",
       "      <th>101</th>\n",
       "      <td>The Maze Runner Series  (The Maze Runner #1-4)</td>\n",
       "      <td>The perfect gift for fans of \"The Hunger Game...</td>\n",
       "      <td>/book/show/20360301-the-maze-runner-series\\n</td>\n",
       "      <td>0.121936</td>\n",
       "    </tr>\n",
       "    <tr>\n",
       "      <th>94</th>\n",
       "      <td>Inside the Maze Runner: The Guide to the Glade</td>\n",
       "      <td>The first book in James Dashner’s New York Ti...</td>\n",
       "      <td>/book/show/21965351-inside-the-maze-runner\\n</td>\n",
       "      <td>0.121792</td>\n",
       "    </tr>\n",
       "    <tr>\n",
       "      <th>119</th>\n",
       "      <td>Mockingjay</td>\n",
       "      <td>The final book in the ground-breaking HUNGER ...</td>\n",
       "      <td>/book/show/7260188-mockingjay\\n</td>\n",
       "      <td>0.120487</td>\n",
       "    </tr>\n",
       "    <tr>\n",
       "      <th>1</th>\n",
       "      <td>Hunter's Run</td>\n",
       "      <td>Like so many others, Ramon Espejo ran from th...</td>\n",
       "      <td>/book/show/1282266.Hunter_s_Run\\n</td>\n",
       "      <td>0.118884</td>\n",
       "    </tr>\n",
       "    <tr>\n",
       "      <th>106</th>\n",
       "      <td>The Unsuspecting Mage</td>\n",
       "      <td>“Want to be a mage? Then do we have the job f...</td>\n",
       "      <td>/book/show/5980364-the-unsuspecting-mage\\n</td>\n",
       "      <td>0.107825</td>\n",
       "    </tr>\n",
       "    <tr>\n",
       "      <th>16</th>\n",
       "      <td>The Dark Calling</td>\n",
       "      <td>New intrigues, adventures, and stunning revel...</td>\n",
       "      <td>/book/show/31453592-the-dark-calling\\n</td>\n",
       "      <td>0.107366</td>\n",
       "    </tr>\n",
       "  </tbody>\n",
       "</table>\n",
       "</div>"
      ],
      "text/plain": [
       "                                          bookTitle  \\\n",
       "93                                 The Hunger Games   \n",
       "87                                     Wicked Games   \n",
       "104              The Ballad of Songbirds and Snakes   \n",
       "46                                  The Gender Game   \n",
       "98                                The Quillan Games   \n",
       "49                                    Catching Fire   \n",
       "41                                 The War of Mists   \n",
       "44                              Dom Wars: Round Six   \n",
       "25                                The Slave Players   \n",
       "47                                   Start the Game   \n",
       "55                                 Cage of Darkness   \n",
       "109                              The Triple Goddess   \n",
       "37      The Maze Runner Trilogy (Maze Runner, #1-3)   \n",
       "56                          Oh! My Useless Goddess!   \n",
       "101  The Maze Runner Series  (The Maze Runner #1-4)   \n",
       "94   Inside the Maze Runner: The Guide to the Glade   \n",
       "119                                      Mockingjay   \n",
       "1                                      Hunter's Run   \n",
       "106                           The Unsuspecting Mage   \n",
       "16                                 The Dark Calling   \n",
       "\n",
       "                                                  Plot  \\\n",
       "93    Could you survive on your own in the wild, wi...   \n",
       "87    Abby Lewis never pictured herself on the surv...   \n",
       "104   It is the morning of the reaping that will ki...   \n",
       "46    For fans of The Hunger Games and Divergent co...   \n",
       "98    LET THE GAMES BEGIN.... Quillan is a territor...   \n",
       "49    SPARKS ARE IGNITING. FLAMES ARE SPREADING. AN...   \n",
       "41    She chose to die in her sister's place and ye...   \n",
       "44    When Gladiator Inc, an adult toy company expa...   \n",
       "25    It’s modern day in the Deep South. Racial unr...   \n",
       "47    Twelve players set off through the online wor...   \n",
       "55    While traveling to Fren, Allyssa and Odar are...   \n",
       "109   Keira soon finds herself becoming a pawn in a...   \n",
       "37    The perfect gift for fans of The Hunger Games...   \n",
       "56    Game loving shut-in Kazuma Sato's life as a y...   \n",
       "101   The perfect gift for fans of \"The Hunger Game...   \n",
       "94    The first book in James Dashner’s New York Ti...   \n",
       "119   The final book in the ground-breaking HUNGER ...   \n",
       "1     Like so many others, Ramon Espejo ran from th...   \n",
       "106   “Want to be a mage? Then do we have the job f...   \n",
       "16    New intrigues, adventures, and stunning revel...   \n",
       "\n",
       "                                                   Url  Similarity  \n",
       "93               /book/show/2767052-the-hunger-games\\n    0.308491  \n",
       "87                  /book/show/10719342-wicked-games\\n    0.206833  \n",
       "104  /book/show/51901147-the-ballad-of-songbirds-an...    0.177233  \n",
       "46               /book/show/31131467-the-gender-game\\n    0.173720  \n",
       "98               /book/show/215540.The_Quillan_Games\\n    0.162878  \n",
       "49                  /book/show/6148028-catching-fire\\n    0.157482  \n",
       "41               /book/show/6655491-the-war-of-mists\\n    0.156313  \n",
       "44                      /book/show/22912730-dom-wars\\n    0.154022  \n",
       "25             /book/show/48925302-the-slave-players\\n    0.137528  \n",
       "47                /book/show/25963370-start-the-game\\n    0.136084  \n",
       "55              /book/show/33893388-cage-of-darkness\\n    0.135188  \n",
       "109           /book/show/16110552-the-triple-goddess\\n    0.133794  \n",
       "37       /book/show/17292676-the-maze-runner-trilogy\\n    0.131005  \n",
       "56         /book/show/31423227-oh-my-useless-goddess\\n    0.125985  \n",
       "101       /book/show/20360301-the-maze-runner-series\\n    0.121936  \n",
       "94        /book/show/21965351-inside-the-maze-runner\\n    0.121792  \n",
       "119                    /book/show/7260188-mockingjay\\n    0.120487  \n",
       "1                    /book/show/1282266.Hunter_s_Run\\n    0.118884  \n",
       "106         /book/show/5980364-the-unsuspecting-mage\\n    0.107825  \n",
       "16              /book/show/31453592-the-dark-calling\\n    0.107366  "
      ]
     },
     "execution_count": 21,
     "metadata": {},
     "output_type": "execute_result"
    }
   ],
   "source": [
    "print(f'Time elapsed for query: {end-start} seconds')\n",
    "test"
   ]
  },
  {
   "cell_type": "markdown",
   "metadata": {},
   "source": [
    "The new_score query is running a more complex query, and it takes more than twice the time it took to run the other similarity query. Anyway we think that for the level of query precision that it allows, one second is still a reasonable time."
   ]
  },
  {
   "cell_type": "markdown",
   "metadata": {},
   "source": [
    "## 4. Plot "
   ]
  },
  {
   "cell_type": "markdown",
   "metadata": {},
   "source": [
    "Below we provide a code to visualize the cumulative number of pages of the first ten books series."
   ]
  },
  {
   "cell_type": "code",
   "execution_count": 22,
   "metadata": {},
   "outputs": [],
   "source": [
    "all_cum_pages,all_years = f.cumulative_pages(articles)"
   ]
  },
  {
   "cell_type": "code",
   "execution_count": 23,
   "metadata": {},
   "outputs": [
    {
     "data": {
      "image/png": "[encoded data removed]",
      "text/plain": [
       "<Figure size 1440x2376 with 10 Axes>"
      ]
     },
     "metadata": {
      "needs_background": "light"
     },
     "output_type": "display_data"
    }
   ],
   "source": [
    "import warnings\n",
    "warnings.filterwarnings('ignore') \n",
    "\n",
    "fig, axs= plt.subplots(5, 2,figsize=(20,33),squeeze=False)\n",
    "fig.subplots_adjust(hspace=0.5)\n",
    "n=0 # will be used to assign plot position in grid\n",
    "for series in sorted(all_cum_pages.keys(),reverse=True):\n",
    "    y = all_cum_pages[series]\n",
    "    x = all_years[series]\n",
    "    pal = sns.color_palette(\"Spectral\",len(y))\n",
    "    axs[int(n/2), n - int(n/2)*2].bar(x,y,color = pal);\n",
    "    axs[int(n/2), n-int(n/2)*2].title.set_text(series)\n",
    "    axs[int(n/2), n-int(n/2)*2].set_xticklabels(x, rotation=45);\n",
    "    n += 1"
   ]
  },
  {
   "cell_type": "markdown",
   "metadata": {},
   "source": [
    "## 5. Algorithmic question"
   ]
  },
  {
   "cell_type": "markdown",
   "metadata": {},
   "source": [
    "Here we look for the length of the common longest subsequence between the alphabet string with a recursive algorithm and with a dynamic programming algorithm."
   ]
  },
  {
   "cell_type": "code",
   "execution_count": 34,
   "metadata": {},
   "outputs": [],
   "source": [
    "x = range(2,18,3)\n",
    "time1, time2, results1, results2, strings = f.run_algorithms(x)"
   ]
  },
  {
   "cell_type": "code",
   "execution_count": 42,
   "metadata": {},
   "outputs": [
    {
     "name": "stdout",
     "output_type": "stream",
     "text": [
      "The radomized strings that we obtained are:\n",
      "PO\n",
      "ZCDOO\n",
      "TVMAHTXJ\n",
      "TSIVFLXFYHL\n",
      "GYOECWAYWKUSWY\n",
      "KFJGWASCTWLGAQUIZ\n"
     ]
    }
   ],
   "source": [
    "print(f'The radomized strings that we obtained are:')\n",
    "print(*strings,sep='\\n')"
   ]
  },
  {
   "cell_type": "code",
   "execution_count": 48,
   "metadata": {},
   "outputs": [
    {
     "name": "stdout",
     "output_type": "stream",
     "text": [
      "Longest substring length:\n",
      "Recursive algorithm: [1, 3, 4, 4, 5, 6]\n",
      "Dynamic programming algorithm: [1, 3, 4, 4, 5, 6]\n",
      "Match:100.0%\n"
     ]
    }
   ],
   "source": [
    "print('Longest substring length:')\n",
    "print(f'Recursive algorithm: {results1}')\n",
    "print(f'Dynamic programming algorithm: {results2}')\n",
    "print(f'Match:{(len(set(results1).intersection(results2))/len(set(results1)))*100}%')"
   ]
  },
  {
   "cell_type": "markdown",
   "metadata": {},
   "source": [
    "We can see from the results that both the algorithms return the same substring lenghts for the same strings. Moreover by checking the strings printed above we cas assume that these results are correct also for short strings."
   ]
  },
  {
   "cell_type": "markdown",
   "metadata": {},
   "source": [
    "#### Plots\n",
    "We compare the running time of these two algorithms."
   ]
  },
  {
   "cell_type": "code",
   "execution_count": 44,
   "metadata": {},
   "outputs": [
    {
     "data": {
      "image/png": "[encoded data removed]",
      "text/plain": [
       "<Figure size 720x504 with 1 Axes>"
      ]
     },
     "metadata": {
      "needs_background": "light"
     },
     "output_type": "display_data"
    }
   ],
   "source": [
    "pal = sns.color_palette(\"pastel\",2)\n",
    "plt.figure(figsize=(10,7))\n",
    "plt.plot(x,time1,color = pal[0],label = 'recursive')\n",
    "plt.plot(x,time2,color = pal[1],label = 'dynamic programming')\n",
    "plt.xlabel('string length')\n",
    "plt.ylabel('time (sec)')\n",
    "plt.legend()\n",
    "plt.title('Run time for longest common substring algorithm')\n",
    "plt.show()"
   ]
  },
  {
   "cell_type": "markdown",
   "metadata": {},
   "source": [
    "In order to test the algorithms running time we have generated random strings with length ranging from 2 to 17 (with intervals of 3). We stopped at string length equal to 17, since the recursive algorithm was taking more than five hours to compute the length of the longest common subsequence (20000 seconds). \\\n",
    "In this first plot we want to compare the two algorithms; we can see that the recursive algorithm takes exponential time with incrasing string lengths, while the dynamic algorithm performances do not seem to be afftected by the length of the string. \\\n",
    "Since the scales for running time in the two algorithms are very different, we may want to visualize more in detail how the running time changes for the dyinamic programming algorithm alone. Since the running time is so low we can run more simulations on longer strings (up to 5000)."
   ]
  },
  {
   "cell_type": "code",
   "execution_count": null,
   "metadata": {},
   "outputs": [],
   "source": [
    "x = range(2,5000,100)\n",
    "time2, results2= f.run_dynamic(x)"
   ]
  },
  {
   "cell_type": "code",
   "execution_count": 21,
   "metadata": {},
   "outputs": [
    {
     "data": {
      "image/png": "[encoded data removed]",
      "text/plain": [
       "<Figure size 1080x504 with 1 Axes>"
      ]
     },
     "metadata": {
      "needs_background": "light"
     },
     "output_type": "display_data"
    }
   ],
   "source": [
    "pal = sns.color_palette(\"pastel\",2)\n",
    "plt.figure(figsize=(15,7))\n",
    "plt.plot(x,time2,color = pal[1],label = 'dynamic programming')\n",
    "plt.xlabel('string length')\n",
    "plt.ylabel('time (sec)')\n",
    "plt.legend()\n",
    "plt.title('Run time for dynamic programming algorithm')\n",
    "plt.show()"
   ]
  },
  {
   "cell_type": "markdown",
   "metadata": {},
   "source": [
    "From the previous plot it seemed that the dynamic programming algorithm takes constant time, while now we can see that it actually takes linear time event if with a really small slope. \\\n",
    "To conclude we can say that the recursive algorithm takes $O(2^n)$, while the dynamic programming takes $O(n)$. "
   ]
  }
 ],
 "metadata": {
  "kernelspec": {
   "display_name": "Python 3",
   "language": "python",
   "name": "python3"
  },
  "language_info": {
   "codemirror_mode": {
    "name": "ipython",
    "version": 3
   },
   "file_extension": ".py",
   "mimetype": "text/x-python",
   "name": "python",
   "nbconvert_exporter": "python",
   "pygments_lexer": "ipython3",
   "version": "3.8.3"
  }
 },
 "nbformat": 4,
 "nbformat_minor": 4
}
